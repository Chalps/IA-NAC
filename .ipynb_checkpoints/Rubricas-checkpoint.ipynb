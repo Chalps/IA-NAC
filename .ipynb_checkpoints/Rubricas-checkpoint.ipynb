{
 "cells": [
  {
   "cell_type": "markdown",
   "metadata": {
    "id": "cm4QFmjY31Wv"
   },
   "source": [
    "## NAC 4SIA - Pedro Chaves e Vinicius Scarabelli"
   ]
  },
  {
   "cell_type": "markdown",
   "metadata": {
    "id": "U2FVy5lt31Wx"
   },
   "source": [
    "#### <b>Rubrica 1</b>\n",
    "\n",
    "Use a imagem circulo.png para implementar um código que:\n",
    " - Segmenta apenas os círculos maiores da imagem, use a técnica que achar melhor. E exibe o resultado. (máx 3 pontos) \n",
    " - Exibe na imagem a área e o centro de massa dos dois círculos segmentados da imagem. O resultado esperado e uma imagem com um marcação no centro indicando o CM e o valor da área; (máx 3 pontos) \n",
    " - Essa rubrica pode ser feita no jupyter notebook ou google Colab.\n"
   ]
  },
  {
   "cell_type": "code",
   "execution_count": 28,
   "metadata": {
    "colab": {
     "base_uri": "https://localhost:8080/",
     "height": 806
    },
    "executionInfo": {
     "elapsed": 914,
     "status": "ok",
     "timestamp": 1647456515766,
     "user": {
      "displayName": "Vinicius Scarabelli",
      "photoUrl": "https://lh3.googleusercontent.com/a-/AOh14GjRqbx3xZvA1FDr5XVjHOHopdTAwZNL1_DBplE-DEA=s64",
      "userId": "12609027974219870130"
     },
     "user_tz": 180
    },
    "id": "bblwlHb0-UrR",
    "outputId": "e7c7b990-d282-4f67-ec77-d976316d9b11"
   },
   "outputs": [],
   "source": [
    "# Importing librarys\n",
    "import cv2\n",
    "from matplotlib import pyplot as plt\n",
    "import numpy as np\n",
    "\n",
    "# Getting images\n",
    "img = cv2.imread('circulo.png')\n",
    "img_rgb = cv2.cvtColor(img, cv2.COLOR_BGR2RGB)\n",
    "img_hsv = cv2.cvtColor(img, cv2.COLOR_BGR2HSV)"
   ]
  },
  {
   "cell_type": "code",
   "execution_count": 49,
   "metadata": {},
   "outputs": [
    {
     "data": {
      "image/png": "[encoded data removed]",
      "text/plain": [
       "<Figure size 432x288 with 1 Axes>"
      ]
     },
     "metadata": {
      "needs_background": "light"
     },
     "output_type": "display_data"
    }
   ],
   "source": [
    "#Pegando somente os 2 circulos\n",
    "image_lower_hsv1 = np.array([0, 230, 165])\n",
    "image_upper_hsv1 = np.array([10, 255, 255])\n",
    "imageMask1 = cv2.inRange(img_hsv, image_lower_hsv1, image_upper_hsv1)\n",
    "\n",
    "image_lower_hsv2 = np.array([75, 160, 220])\n",
    "image_upper_hsv2 = np.array([95, 255, 230])\n",
    "imageMask2 = cv2.inRange(img_hsv, image_lower_hsv2, image_upper_hsv2)\n",
    "\n",
    "finalMask = cv2.bitwise_or(imageMask1, imageMask2)\n",
    "\n",
    "#achar contornos\n",
    "contorno, _ = cv2.findContours(finalMask, cv2.RETR_TREE, cv2.CHAIN_APPROX_SIMPLE) \n",
    "circles = cv2.cvtColor(finalMask, cv2.COLOR_BGR2RGB)\n",
    "contornos_img = circles.copy() \n",
    "\n",
    "for i in contorno:\n",
    "    \n",
    "    contorno1 = int(cv2.moments(i)['m10']/cv2.moments(i)['m00'])\n",
    "    contorno2 = int(cv2.moments(i)['m01']/cv2.moments(i)['m00'])\n",
    "    texto = contorno2 , contorno1, cv2.contourArea(i)\n",
    "    \n",
    "    cv2.line(contornos_img,(contorno1 - 40,contorno2),(contorno1 + 40,contorno2),(20,30,255),5)\n",
    "    cv2.line(contornos_img,(contorno1,contorno2 - 40),(contorno1, contorno2 + 40),(20,30,255),5)\n",
    "    \n",
    "    if contorno1 <200:\n",
    "        origem = (contorno1+200,contorno2)\n",
    "    else:\n",
    "        origem = (contorno1-500,contorno2)\n",
    "\n",
    "    cv2.putText(contornos_img, str(texto), origem, cv2.FONT_HERSHEY_SIMPLEX,1,(255,255,255),2,cv2.LINE_AA)\n",
    "\n",
    "plt.imshow(contornos_img);\n",
    "plt.show()"
   ]
  },
  {
   "cell_type": "code",
   "execution_count": null,
   "metadata": {},
   "outputs": [],
   "source": []
  }
 ],
 "metadata": {
  "colab": {
   "collapsed_sections": [],
   "name": "Rubricas.ipynb",
   "provenance": [
    {
     "file_id": "https://github.com/Chalps/IA-NAC/blob/main/Resolu%C3%A7%C3%A3o.ipynb",
     "timestamp": 1647453844621
    }
   ]
  },
  "kernelspec": {
   "display_name": "Python 3 (ipykernel)",
   "language": "python",
   "name": "python3"
  },
  "language_info": {
   "codemirror_mode": {
    "name": "ipython",
    "version": 3
   },
   "file_extension": ".py",
   "mimetype": "text/x-python",
   "name": "python",
   "nbconvert_exporter": "python",
   "pygments_lexer": "ipython3",
   "version": "3.10.2"
  }
 },
 "nbformat": 4,
 "nbformat_minor": 1
}
